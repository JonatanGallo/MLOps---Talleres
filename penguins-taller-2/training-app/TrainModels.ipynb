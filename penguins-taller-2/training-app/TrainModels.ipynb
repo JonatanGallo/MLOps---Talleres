{
 "cells": [
  {
   "cell_type": "code",
   "execution_count": 1,
   "id": "8b036d14-355e-4418-a716-ce0e6471d360",
   "metadata": {},
   "outputs": [
    {
     "name": "stderr",
     "output_type": "stream",
     "text": [
      "/home/jovyan/workspace/.venv/lib/python3.10/site-packages/palmerpenguins/penguins.py:2: UserWarning: pkg_resources is deprecated as an API. See https://setuptools.pypa.io/en/latest/pkg_resources.html. The pkg_resources package is slated for removal as early as 2025-11-30. Refrain from using this package or pin to Setuptools<81.\n",
      "  import pkg_resources\n"
     ]
    },
    {
     "name": "stdout",
     "output_type": "stream",
     "text": [
      "hola None\n"
     ]
    }
   ],
   "source": [
    "from etl import get_data\n",
    "from model import Model\n",
    "from models import ModelType\n",
    "import os\n",
    "\n",
    "MODELS_DIR = os.environ.get(\"MODELS_DIR\")\n",
    "#print(f\"{ModelType.RANDOM_FOREST}\")\n",
    "# Ruta base: misma carpeta de este script\n",
    "print(\"hola\", MODELS_DIR)"
   ]
  },
  {
   "cell_type": "code",
   "execution_count": null,
   "id": "1ec251f9-da98-4b1f-b7a6-743d655ca4e5",
   "metadata": {},
   "outputs": [
    {
     "name": "stdout",
     "output_type": "stream",
     "text": [
      "Initial data\n",
      "  species     island  bill_length_mm  bill_depth_mm  flipper_length_mm  \\\n",
      "0  Adelie  Torgersen            39.1           18.7              181.0   \n",
      "1  Adelie  Torgersen            39.5           17.4              186.0   \n",
      "2  Adelie  Torgersen            40.3           18.0              195.0   \n",
      "3  Adelie  Torgersen             NaN            NaN                NaN   \n",
      "4  Adelie  Torgersen            36.7           19.3              193.0   \n",
      "\n",
      "   body_mass_g     sex  year  \n",
      "0       3750.0    male  2007  \n",
      "1       3800.0  female  2007  \n",
      "2       3250.0  female  2007  \n",
      "3          NaN     NaN  2007  \n",
      "4       3450.0  female  2007  \n",
      "2752\n",
      "(344, 8)\n",
      "####################################################################################################\n",
      "Null values species              0\n",
      "bill_length_mm       0\n",
      "bill_depth_mm        0\n",
      "flipper_length_mm    0\n",
      "body_mass_g          0\n",
      "year                 0\n",
      "island_Dream         0\n",
      "island_Torgersen     0\n",
      "sex_female           0\n",
      "sex_male             0\n",
      "dtype: int64\n",
      "####################################################################################################\n",
      "Data types species               object\n",
      "bill_length_mm       float64\n",
      "bill_depth_mm        float64\n",
      "flipper_length_mm    float64\n",
      "body_mass_g          float64\n",
      "year                   int64\n",
      "island_Dream           int64\n",
      "island_Torgersen       int64\n",
      "sex_female             int64\n",
      "sex_male               int64\n",
      "dtype: object\n",
      "####################################################################################################\n",
      "Species species\n",
      "Adelie       0.441520\n",
      "Gentoo       0.359649\n",
      "Chinstrap    0.198830\n",
      "Name: proportion, dtype: float64\n",
      "####################################################################################################\n",
      "After cleaning\n",
      "   bill_length_mm  bill_depth_mm  flipper_length_mm  body_mass_g  \\\n",
      "0       -0.887081       0.785449          -1.418347    -0.564142   \n",
      "1       -0.813494       0.126188          -1.062250    -0.501703   \n",
      "2       -0.666320       0.430462          -0.421277    -1.188532   \n",
      "4       -1.328605       1.089724          -0.563715    -0.938776   \n",
      "5       -0.850288       1.748985          -0.777373    -0.689020   \n",
      "\n",
      "   island_Dream  island_Torgersen  sex_female  sex_male  \n",
      "0             0                 1           0         1  \n",
      "1             0                 1           1         0  \n",
      "2             0                 1           1         0  \n",
      "4             0                 1           1         0  \n",
      "5             0                 1           0         1  \n",
      "0    0\n",
      "1    0\n",
      "2    0\n",
      "4    0\n",
      "5    0\n",
      "Name: species, dtype: int64\n",
      "(342, 8)\n",
      "(342,)\n",
      "####################################################################################################\n"
     ]
    }
   ],
   "source": [
    "from etl import get_data\n",
    "from model import Model\n",
    "from models import ModelType\n",
    "import os\n",
    "\n",
    "\n",
    "#print(f\"{ModelType.RANDOM_FOREST}\")\n",
    "# Ruta base: misma carpeta de este script\n",
    "BASE_DIR = os.getcwd()\n",
    "MODELS_DIR = os.path.join(BASE_DIR, \"models\")\n",
    "\n",
    "# Carpeta donde guardaremos los modelos entrenados\n",
    "\n",
    "os.makedirs(MODELS_DIR, exist_ok=True)\n",
    "\n",
    "# Cargar y preparar datos\n",
    "X, y = get_data()"
   ]
  },
  {
   "cell_type": "code",
   "execution_count": null,
   "id": "7696dc21-2629-4d0b-a902-f62d59c0020d",
   "metadata": {},
   "outputs": [],
   "source": [
    "def saveModel(mtype):\n",
    "    model_obj = Model(mtype)\n",
    "    model_obj.train(X, y)\n",
    "    model_path = os.path.join(MODELS_DIR, f\"model_{mtype.value}.pkl\")\n",
    "    print(model_path)\n",
    "    print(MODELS_DIR)\n",
    "    model_obj.save(model_path)\n",
    "    print(f\"✅ Modelo {mtype.value} guardado en {model_path}\")"
   ]
  },
  {
   "cell_type": "code",
   "execution_count": 15,
   "id": "81c2d566-5548-4ebf-a117-185b2d89b4fd",
   "metadata": {},
   "outputs": [
    {
     "name": "stdout",
     "output_type": "stream",
     "text": [
      "Training model  ModelType.RANDOM_FOREST\n",
      "Validation fraction relative to the temp set 0.11111111111111112\n",
      "Training data size (272, 8)\n",
      "Validation data size (35, 8)\n",
      "Testing data size (35, 8)\n",
      "/home/jdromero/Documentos/MLops/MLOps---Talleres/penguins-taller-2/models/model_random_forest.pkl\n",
      "/home/jdromero/Documentos/MLops/MLOps---Talleres/penguins-taller-2/models\n",
      "✅ Modelo random_forest guardado en /home/jdromero/Documentos/MLops/MLOps---Talleres/penguins-taller-2/models/model_random_forest.pkl\n"
     ]
    }
   ],
   "source": [
    "saveModel(ModelType.RANDOM_FOREST)"
   ]
  },
  {
   "cell_type": "code",
   "execution_count": 18,
   "id": "36141915-6c2b-4f2d-9b65-94893c62a91c",
   "metadata": {},
   "outputs": [
    {
     "name": "stdout",
     "output_type": "stream",
     "text": [
      "/home/jdromero/Documentos/MLops/MLOps---Talleres/penguins-taller-2/training-app\n",
      "/home/jdromero/Documentos/MLops/MLOps---Talleres/penguins-taller-2\n"
     ]
    }
   ],
   "source": [
    "print(os.getcwd())\n",
    "print(os.path.dirname(os.getcwd()))"
   ]
  },
  {
   "cell_type": "code",
   "execution_count": null,
   "id": "0986f330-535a-4484-9635-826bff541a67",
   "metadata": {},
   "outputs": [],
   "source": []
  }
 ],
 "metadata": {
  "kernelspec": {
   "display_name": "Python 3 (ipykernel)",
   "language": "python",
   "name": "python3"
  },
  "language_info": {
   "codemirror_mode": {
    "name": "ipython",
    "version": 3
   },
   "file_extension": ".py",
   "mimetype": "text/x-python",
   "name": "python",
   "nbconvert_exporter": "python",
   "pygments_lexer": "ipython3",
   "version": "3.10.12"
  }
 },
 "nbformat": 4,
 "nbformat_minor": 5
}
